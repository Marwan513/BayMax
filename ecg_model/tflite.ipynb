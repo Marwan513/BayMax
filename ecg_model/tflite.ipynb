{
  "nbformat": 4,
  "nbformat_minor": 0,
  "metadata": {
    "colab": {
      "provenance": [],
      "gpuType": "T4"
    },
    "kernelspec": {
      "name": "python3",
      "display_name": "Python 3"
    },
    "language_info": {
      "name": "python"
    },
    "accelerator": "GPU"
  },
  "cells": [
    {
      "cell_type": "code",
      "execution_count": null,
      "metadata": {
        "colab": {
          "base_uri": "https://localhost:8080/"
        },
        "id": "7_VNS0ShVYIS",
        "outputId": "3e662a3e-153f-4373-c384-3bc363589be0"
      },
      "outputs": [
        {
          "output_type": "stream",
          "name": "stderr",
          "text": [
            "WARNING:absl:Found untraced functions such as _jit_compiled_convolution_op, _jit_compiled_convolution_op, _jit_compiled_convolution_op, _update_step_xla while saving (showing 4 of 4). These functions will not be directly callable after loading.\n"
          ]
        },
        {
          "output_type": "execute_result",
          "data": {
            "text/plain": [
              "327353288"
            ]
          },
          "metadata": {},
          "execution_count": 1
        }
      ],
      "source": [
        "import tensorflow as tf\n",
        "from tensorflow.keras.models import load_model\n",
        "from tensorflow.keras.utils import custom_object_scope\n",
        "\n",
        "# Load the Keras model from the .h5 file and specify the custom_objects\n",
        "\n",
        "model = load_model('ecg_model3.h5')\n",
        "\n",
        "# Create a TFLiteConverter object from the loaded Keras model\n",
        "converter = tf.lite.TFLiteConverter.from_keras_model(model)\n",
        "\n",
        "# Set the supported operations for the converter\n",
        "converter.target_spec.supported_ops = [\n",
        "   tf.lite.OpsSet.TFLITE_BUILTINS,  # enable TensorFlow Lite ops.\n",
        "   tf.lite.OpsSet.SELECT_TF_OPS  # enable TensorFlow ops.\n",
        "]\n",
        "\n",
        "# Enable resource variables for the converter\n",
        "converter.experimental_enable_resource_variables = True\n",
        "\n",
        "# Convert the model to TensorFlow Lite format\n",
        "tfmodel = converter.convert()\n",
        "\n",
        "# Save the resulting TensorFlow Lite model to a file\n",
        "open(\"ecg_model.tflite\", \"wb\").write(tfmodel)\n",
        "\n"
      ]
    }
  ]
}